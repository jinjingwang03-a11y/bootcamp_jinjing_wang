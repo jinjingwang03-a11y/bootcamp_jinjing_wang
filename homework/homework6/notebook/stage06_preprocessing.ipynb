{
 "cells": [
  {
   "cell_type": "markdown",
   "metadata": {},
   "source": [
    "# Stage 6: Data Preprocessing\\n",
    "\\n",
    "This notebook demonstrates data cleaning and preprocessing using custom functions.\\n",
    "We will load raw data, audit it, apply cleaning functions, and save the processed results."
   ]
  },
  {
   "cell_type": "markdown",
   "metadata": {},
   "source": [
    "## Setup and Imports"
   ]
  },
  {
   "cell_type": "code",
   "execution_count": null,
   "metadata": {},
   "outputs": [],
   "source": [
    "import sys\\n",
    "import os\\n",
    "import pandas as pd\\n",
    "import numpy as np\\n",
    "from pathlib import Path\\n",
    "\\n",
    "# Add src directory to path for importing custom functions\\n",
    "sys.path.append('../src')\\n",
    "\\n",
    "from cleaning import fill_missing_median, drop_missing, normalize_data"
   ]
  },
  {
   "cell_type": "markdown",
   "metadata": {},
   "source": [
    "## Load Raw Data"
   ]
  },
  {
   "cell_type": "code",
   "execution_count": null,
   "metadata": {},
   "outputs": [],
   "source": [
    "# Load the raw dataset\\n",
    "df_raw = pd.read_csv('../data/raw/sample_data.csv')\\n",
    "\\n",
    "print(\\"Raw dataset loaded:\\")\\n",
    "print(f\\"Shape: {df_raw.shape}\\")\\n",
    "print(\\"\\\\nFirst 5 rows:\\")\\n",
    "display(df_raw.head())"
   ]
  },
  {
   "cell_type": "markdown",
   "metadata": {},
   "source": [
    "## Data Audit"
   ]
  },
  {
   "cell_type": "code",
   "execution_count": null,
   "metadata": {},
   "outputs": [],
   "source": [
    "print(\\"=== DATA AUDIT ===\\")\\n",
    "print(f\\"Dataset shape: {df_raw.shape}\\")\\n",
    "print(f\\"\\\\nData types:\\")\\n",
    "print(df_raw.dtypes)\\n",
    "\\n",
    "print(f\\"\\\\nMissing values per column:\\")\\n",
    "missing_counts = df_raw.isnull().sum()\\n",
    "missing_percentages = (missing_counts / len(df_raw)) * 100\\n",
    "\\n",
    "missing_summary = pd.DataFrame({\\n",
    "    'Missing_Count': missing_counts,\\n",
    "    'Missing_Percentage': missing_percentages\\n",
    "})\\n",
    "print(missing_summary)\\n",
    "\\n",
    "print(f\\"\\\\nBasic statistics for numeric columns:\\")\\n",
    "display(df_raw.describe())"
   ]
  },
  {
   "cell_type": "markdown",
   "metadata": {},
   "source": [
    "## Apply Cleaning Functions"
   ]
  },
  {
   "cell_type": "code",
   "execution_count": null,
   "metadata": {},
   "outputs": [],
   "source": [
    "print(\\"=== APPLYING CLEANING FUNCTIONS ===\\")\\n",
    "\\n",
    "# Start with a copy of the raw data\\n",
    "df_clean = df_raw.copy()\\n",
    "\\n",
    "print(\\"\\\\n1. Filling missing values with median for numeric columns:\\")\\n",
    "df_clean = fill_missing_median(df_clean, ['age', 'income', 'score'])\\n",
    "\\n",
    "print(\\"\\\\n2. Dropping columns with >50% missing values:\\")\\n",
    "df_clean = drop_missing(df_clean, threshold=0.5)\\n",
    "\\n",
    "print(\\"\\\\n3. Normalizing numeric columns:\\")\\n",
    "df_clean = normalize_data(df_clean, ['income', 'score'])\\n",
    "\\n",
    "print(\\"\\\\nCleaning completed!\\")\\n",
    "print(f\\"Final dataset shape: {df_clean.shape}\\")"
   ]
  },
  {
   "cell_type": "markdown",
   "metadata": {},
   "source": [
    "## Save Processed Data"
   ]
  },
  {
   "cell_type": "code",
   "execution_count": null,
   "metadata": {},
   "outputs": [],
   "source": [
    "# Save cleaned data to processed folder\\n",
    "output_path = '../data/processed/sample_data_cleaned.csv'\\n",
    "df_clean.to_csv(output_path, index=False)\\n",
    "\\n",
    "print(f\\"Cleaned dataset saved to: {output_path}\\")\\n",
    "print(f\\"Processed dataset shape: {df_clean.shape}\\")"
   ]
  },
  {
   "cell_type": "markdown",
   "metadata": {},
   "source": [
    "## Before/After Summary"
   ]
  },
  {
   "cell_type": "code",
   "execution_count": null,
   "metadata": {},
   "outputs": [],
   "source": [
    "print(\\"=== BEFORE/AFTER COMPARISON ===\\")\\n",
    "\\n",
    "print(\\"ORIGINAL DATA:\\")\\n",
    "print(f\\"Shape: {df_raw.shape}\\")\\n",
    "display(df_raw.head())\\n",
    "\\n",
    "print(\\"\\\\nCLEANED DATA:\\")\\n",
    "print(f\\"Shape: {df_clean.shape}\\")\\n",
    "display(df_clean.head())\\n",
    "\\n",
    "print(\\"\\\\nMISSING VALUES COMPARISON:\\")\\n",
    "comparison = pd.DataFrame({\\n",
    "    'Original_Missing': df_raw.isnull().sum(),\\n",
    "    'Cleaned_Missing': df_clean.reindex(df_raw.columns, fill_value=0).isnull().sum() if df_clean.shape[1] != df_raw.shape[1] else df_clean.isnull().sum(),\\n",
    "    'Original_Pct': (df_raw.isnull().sum() / len(df_raw)) * 100,\\n",
    "    'Cleaned_Pct': (df_clean.reindex(df_raw.columns, fill_value=0).isnull().sum() / len(df_clean)) * 100 if df_clean.shape[1] != df_raw.shape[1] else (df_clean.isnull().sum() / len(df_clean)) * 100\\n",
    "})\\n",
    "display(comparison)\\n",
    "\\n",
    "print(\\"\\\\nCOLUMNS COMPARISON:\\")\\n",
    "print(f\\"Original columns: {list(df_raw.columns)}\\")\\n",
    "print(f\\"Cleaned columns: {list(df_clean.columns)}\\")\\n",
    "\\n",
    "dropped_cols = set(df_raw.columns) - set(df_clean.columns)\\n",
    "if dropped_cols:\\n",
    "    print(f\\"Dropped columns: {list(dropped_cols)}\\")\\n",
    "else:\\n",
    "    print(\\"No columns were dropped\\")"
   ]
  },
  {
   "cell_type": "markdown",
   "metadata": {},
   "source": [
    "## Function Parameters Summary"
   ]
  },
  {
   "cell_type": "code",
   "execution_count": null,
   "metadata": {},
   "outputs": [],
   "source": [
    "print(\\"=== FUNCTION PARAMETERS USED ===\\")\\n",
    "\\n",
    "print(\\"1. fill_missing_median():\\")\\n",
    "print(\\"   - columns: ['age', 'income', 'score']\\")\\n",
    "print(\\"   - method: median imputation\\")\\n",
    "\\n",
    "print(\\"\\\\n2. drop_missing():\\")\\n",
    "print(\\"   - threshold: 0.5 (50%)\\")\\n",
    "print(\\"   - action: drop columns with >50% missing values\\")\\n",
    "\\n",
    "print(\\"\\\\n3. normalize_data():\\")\\n",
    "print(\\"   - columns: ['income', 'score']\\")\\n",
    "print(\\"   - method: min-max scaling (0-1 range)\\")\\n",
    "\\n",
    "print(\\"\\\\n=== PROCESSING COMPLETE ===\\")"
   ]
  }
 ],
 "metadata": {
  "kernelspec": {
   "display_name": "Python 3",
   "language": "python",
   "name": "python3"
  },
  "language_info": {
   "codemirror_mode": {
    "name": "ipython",
    "version": 3
   },
   "file_extension": ".py",
   "mimetype": "text/x-python",
   "name": "python",
   "nbconvert_exporter": "python",
   "pygments_lexer": "ipython3",
   "version": "3.8.5"
  }
 },
 "nbformat": 4,
 "nbformat_minor": 4
}
