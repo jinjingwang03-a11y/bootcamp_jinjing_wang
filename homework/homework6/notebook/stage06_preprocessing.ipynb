{
 "cells": [
  {
   "cell_type": "markdown",
   "metadata": {},
   "source": [
    "# Homework - Stage 6: Data Preprocessing\n",
    "Use this notebook to apply your cleaning functions and save processed data."
   ]
  },
  {
   "cell_type": "code",
   "execution_count": null,
   "metadata": {},
   "outputs": [],
   "source": [
    "import os, sys, numpy as np, pandas as pd\n",
    "from src import cleaning\n",
    "csv_path = './data/raw/sample_data.csv'\n",
    "os.makedirs('data/raw', exist_ok=True)"
   ]
  },
  {
   "cell_type": "code",
   "execution_count": null,
   "metadata": {},
   "outputs": [],
   "source": [
    "if not os.path.exists(csv_path):\n",
    "    # Create Sample dataset\n",
    "    np.random.seed(42)\n",
    "    df = pd.DataFrame({\n",
    "        'age': [34, 45, 29, 50, 38, np.nan, 41],\n",
    "        'income': [55000, np.nan, 42000, 58000, np.nan, np.nan, 49000],\n",
    "        'score': [0.82, 0.91, np.nan, 0.76, 0.88, 0.65, 0.79],\n",
    "        'zipcode': ['90210', '10001', '60614', '94103', '73301', '12345', '94105'],\n",
    "        'city': ['Beverly', 'New York', 'Chicago', 'SF', 'Austin', 'Unknown', 'San Francisco'],\n",
    "        'extra_data': [np.nan, 42, np.nan, np.nan, np.nan, 5, np.nan]\n",
    "    })\n",
    "    df.to_csv(csv_path, index=False)\n",
    "    print(f\"Sample dataset created at {csv_path}\")\n",
    "else:\n",
    "    print(f\"Sample dataset already exists at {csv_path}\")\n",
    "    df = pd.read_csv(csv_path)\n",
    "\n",
    "df  # show the DataFrame"
   ]
  },
  {
   "cell_type": "code",
   "execution_count": null,
   "metadata": {},
   "outputs": [],
   "source": [
    "# Drop rows with <50% non-missing across all columns\n",
    "df = cleaning.drop_missing(df, threshold=0.5)\n",
    "df  # show\n",
    "\n",
    "# Fill numeric columns with medians\n",
    "df = cleaning.fill_missing_median(df)\n",
    "df  # show\n",
    "\n",
    "# Min-max normalize numeric columns to [0,1]\n",
    "df = cleaning.normalize_data(df)\n",
    "df  # show"
   ]
  },
  {
   "cell_type": "code",
   "execution_count": null,
   "metadata": {},
   "outputs": [],
   "source": [
    "proc_data_location = './data/processed'\n",
    "os.makedirs(proc_data_location, exist_ok=True)\n",
    "df.to_csv(os.path.join(proc_data_location, 'sample_data_cleaned.csv'), index=False)\n",
    "print(\"Saved:\", os.path.join(proc_data_location, 'sample_data_cleaned.csv'))"
   ]
  }
 ],
 "metadata": {
  "kernelspec": {
   "display_name": "Python 3",
   "language": "python",
   "name": "python3"
  },
  "language_info": {
   "codemirror_mode": {
    "name": "ipython",
   "version": 3
   },
   "file_extension": ".py",
   "mimetype": "text/x-python",
   "name": "python",
   "nbconvert_exporter": "python",
   "pygments_lexer": "ipython3",
   "version": "3.8.5"
  }
 },
 "nbformat": 4,
 "nbformat_minor": 4
}
