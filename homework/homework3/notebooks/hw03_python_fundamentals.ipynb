{
 "cells": [
  {
   "cell_type": "markdown",
   "metadata": {},
   "source": [
    "# Homework 3: Python Fundamentals\n",
    "\n",
    "This notebook demonstrates NumPy operations, pandas data loading, summary statistics, and reusable functions using stock market data."
   ]
  },
  {
   "cell_type": "code",
   "execution_count": null,
   "metadata": {},
   "outputs": [],
   "source": [
    "# Import required libraries\n",
    "import numpy as np\n",
    "import pandas as pd\n",
    "import matplotlib.pyplot as plt\n",
    "import time\n",
    "import os\n",
    "\n",
    "print(\"Libraries imported successfully!\")"
   ]
  },
  {
   "cell_type": "markdown",
   "metadata": {},
   "source": [
    "## 1. NumPy Operations\n",
    "\n",
    "### Create an array and perform elementwise operations"
   ]
  },
  {
   "cell_type": "code",
   "execution_count": null,
   "metadata": {},
   "outputs": [],
   "source": [
    "# Create sample arrays for stock analysis\n",
    "prices = np.array([6.22, 6.26, 6.30, 6.29, 6.29, 6.23, 6.25, 6.22, 6.29, 6.28])\n",
    "volumes = np.array([258925, 309471, 301622, 203129, 196123, 161946, 192155, 168499, 217702, 368169])\n",
    "\n",
    "print(\"Stock Prices:\", prices)\n",
    "print(\"Trading Volumes:\", volumes)\n",
    "\n",
    "# Element-wise operations\n",
    "price_changes = np.diff(prices)  # Daily price changes\n",
    "returns = (prices[1:] - prices[:-1]) / prices[:-1] * 100  # Daily returns in %\n",
    "value_traded = prices * volumes  # Total value traded\n",
    "\n",
    "print(\"\\nElement-wise Operations:\")\n",
    "print(f\"Price Changes: {price_changes.round(4)}\")\n",
    "print(f\"Daily Returns (%): {returns.round(2)}\")\n",
    "print(f\"Value Traded: {value_traded.round(0)}\")\n",
    "\n",
    "# Array statistics\n",
    "print(\"\\nArray Statistics:\")\n",
    "print(f\"Average price: ${prices.mean():.2f}\")\n",
    "print(f\"Price volatility (std): ${prices.std():.4f}\")\n",
    "print(f\"Max price: ${prices.max():.2f}\")\n",
    "print(f\"Min price: ${prices.min():.2f}\")\n",
    "print(f\"Average volume: {volumes.mean():,.0f}\")\n",
    "print(f\"Total volume: {volumes.sum():,}\")"
   ]
  },
  {
   "cell_type": "markdown",
   "metadata": {},
   "source": [
    "### Compare loop vs vectorized execution"
   ]
  },
  {
   "cell_type": "code",
   "execution_count": null,
   "metadata": {},
   "outputs": [],
   "source": [
    "# Create test data for performance comparison\n",
    "test_prices = np.random.uniform(5.0, 7.0, 100000)\n",
    "\n",
    "# Loop-based operation: Calculate moving average\n",
    "start_time = time.time()\n",
    "loop_result = []\n",
    "for i in range(len(test_prices)):\n",
    "    if i >= 5:\n",
    "        loop_result.append(np.mean(test_prices[i-5:i]))\n",
    "    else:\n",
    "        loop_result.append(test_prices[i])\n",
    "loop_time = time.time() - start_time\n",
    "\n",
    "# Vectorized operation: Calculate returns\n",
    "start_time = time.time()\n",
    "vectorized_result = test_prices ** 2 + np.log(test_prices) * 100\n",
    "vectorized_time = time.time() - start_time\n",
    "\n",
    "speedup = loop_time / vectorized_time\n",
    "\n",
    "print(\"Performance Comparison:\")\n",
    "print(f\"Array size: {len(test_prices):,} elements\")\n",
    "print(f\"Loop time: {loop_time:.4f} seconds\")\n",
    "print(f\"Vectorized time: {vectorized_time:.4f} seconds\")\n",
    "print(f\"Speedup: {speedup:.1f}x faster\")"
   ]
  },
  {
   "cell_type": "markdown",
   "metadata": {},
   "source": [
    "## 2. Dataset Loading\n",
    "\n",
    "### Load provided CSV using pandas"
   ]
  },
  {
   "cell_type": "code",
   "execution_count": null,
   "metadata": {},
   "outputs": [],
   "source": [
    "# Load the stock market dataset\n",
    "df = pd.read_csv('../data/starter_data.csv')\n",
    "\n",
    "print(f\"Dataset loaded successfully!\")\n",
    "print(f\"Shape: {df.shape}\")\n",
    "print(f\"Columns: {list(df.columns)}\")"
   ]
  },
  {
   "cell_type": "markdown",
   "metadata": {},
   "source": [
    "### Inspect with .info() and .head()"
   ]
  },
  {
   "cell_type": "code",
   "execution_count": null,
   "metadata": {},
   "outputs": [],
   "source": [
    "# Inspect with .info()\n",
    "print(\"Dataset Info:\")\n",
    "df.info()"
   ]
  },
  {
   "cell_type": "code",
   "execution_count": null,
   "metadata": {},
   "outputs": [],
   "source": [
    "# Inspect with .head()\n",
    "print(\"First 5 rows:\")\n",
    "df.head()"
   ]
  },
  {
   "cell_type": "markdown",
   "metadata": {},
   "source": [
    "## 3. Summary Statistics\n",
    "\n",
    "### Calculate .describe() for numeric columns"
   ]
  },
  {
   "cell_type": "code",
   "execution_count": null,
   "metadata": {},
   "outputs": [],
   "source": [
    "# Summary statistics for numeric columns\n",
    "numeric_summary = df.describe()\n",
    "print(\"Summary Statistics for Numeric Columns:\")\n",
    "print(numeric_summary)"
   ]
  },
  {
   "cell_type": "markdown",
   "metadata": {},
   "source": [
    "### Perform .groupby() aggregation by category"
   ]
  },
  {
   "cell_type": "code",
   "execution_count": null,
   "metadata": {},
   "outputs": [],
   "source": [
    "# Add month column for groupby analysis\n",
    "df['Date'] = pd.to_datetime(df['Date'])\n",
    "df['Month'] = df['Date'].dt.strftime('%Y-%m')\n",
    "\n",
    "# GroupBy aggregation by month\n",
    "monthly_stats = df.groupby('Month').agg({\n",
    "    'Open': ['mean', 'std'],\n",
    "    'Close': ['mean', 'std'],\n",
    "    'High': ['max'],\n",
    "    'Low': ['min'],\n",
    "    'Volume': ['sum', 'mean']\n",
    "}).round(4)\n",
    "\n",
    "print(\"Monthly Statistics:\")\n",
    "print(monthly_stats.head(10))\n",
    "\n",
    "# Simplified monthly summary for CSV export\n",
    "monthly_summary = df.groupby('Month')['Close'].agg([\n",
    "    'count', 'mean', 'std', 'min', 'max'\n",
    "]).round(4)\n",
    "monthly_summary.columns = ['trading_days', 'avg_close', 'volatility', 'min_close', 'max_close']\n",
    "\n",
    "print(\"\\nSimplified Monthly Summary:\")\n",
    "print(monthly_summary.head(10))"
   ]
  },
  {
   "cell_type": "markdown",
   "metadata": {},
   "source": [
    "## 4. Save Outputs\n",
    "\n",
    "### Save summary stats to data/processed/summary.csv"
   ]
  },
  {
   "cell_type": "code",
   "execution_count": null,
   "metadata": {},
   "outputs": [],
   "source": [
    "# Ensure processed directory exists\n",
    "os.makedirs('../data/processed', exist_ok=True)\n",
    "\n",
    "# Save monthly summary statistics to CSV\n",
    "monthly_summary.to_csv('../data/processed/summary.csv')\n",
    "print(\"Monthly summary statistics saved to data/processed/summary.csv\")\n",
    "\n",
    "# Also save overall summary\n",
    "numeric_summary.to_csv('../data/processed/overall_summary.csv')\n",
    "print(\"Overall summary saved to data/processed/overall_summary.csv\")"
   ]
  },
  {
   "cell_type": "markdown",
   "metadata": {},
   "source": [
    "### Bonus: Create and save a basic plot"
   ]
  },
  {
   "cell_type": "code",
   "execution_count": null,
   "metadata": {},
   "outputs": [],
   "source": [
    "# Create stock analysis plots\n",
    "plt.figure(figsize=(15, 10))\n",
    "\n",
    "# Subplot 1: Stock price over time\n",
    "plt.subplot(2, 2, 1)\n",
    "plt.plot(df['Date'], df['Close'], color='blue', linewidth=1)\n",
    "plt.title('Stock Price Over Time')\n",
    "plt.xlabel('Date')\n",
    "plt.ylabel('Close Price ($)')\n",
    "plt.xticks(rotation=45)\n",
    "\n",
    "# Subplot 2: Volume distribution\n",
    "plt.subplot(2, 2, 2)\n",
    "plt.hist(df['Volume'], bins=20, color='lightgreen', alpha=0.7, edgecolor='black')\n",
    "plt.title('Trading Volume Distribution')\n",
    "plt.xlabel('Volume')\n",
    "plt.ylabel('Frequency')\n",
    "\n",
    "# Subplot 3: Monthly average closing prices\n",
    "plt.subplot(2, 2, 3)\n",
    "monthly_avg = df.groupby('Month')['Close'].mean()\n",
    "plt.bar(range(len(monthly_avg)), monthly_avg.values, color='coral')\n",
    "plt.title('Monthly Average Closing Prices')\n",
    "plt.xlabel('Month')\n",
    "plt.ylabel('Average Close Price ($)')\n",
    "plt.xticks(range(0, len(monthly_avg), 2), monthly_avg.index[::2], rotation=45)\n",
    "\n",
    "# Subplot 4: High-Low spread\n",
    "plt.subplot(2, 2, 4)\n",
    "df['Spread'] = df['High'] - df['Low']\n",
    "plt.scatter(df['Volume'], df['Spread'], alpha=0.6, color='purple')\n",
    "plt.title('Volume vs Price Spread')\n",
    "plt.xlabel('Volume')\n",
    "plt.ylabel('High-Low Spread ($)')\n",
    "\n",
    "plt.tight_layout()\n",
    "plt.savefig('../data/processed/stock_analysis.png', dpi=300, bbox_inches='tight')\n",
    "plt.show()\n",
    "\n",
    "print(\"Plot saved to data/processed/stock_analysis.png\")"
   ]
  },
  {
   "cell_type": "markdown",
   "metadata": {},
   "source": [
    "## 5. Reusable Functions\n",
    "\n",
    "### Write utility function (get_summary_stats)"
   ]
  },
  {
   "cell_type": "code",
   "execution_count": null,
   "metadata": {},
   "outputs": [],
   "source": [
    "def get_summary_stats(df, numeric_only=True):\n",
    "    \"\"\"\n",
    "    Calculate summary statistics for a DataFrame.\n",
    "    \n",
    "    Args:\n",
    "        df (pd.DataFrame): Input DataFrame\n",
    "        numeric_only (bool): Whether to include only numeric columns\n",
    "        \n",
    "    Returns:\n",
    "        pd.DataFrame: Summary statistics\n",
    "    \"\"\"\n",
    "    if numeric_only:\n",
    "        return df.describe()\n",
    "    else:\n",
    "        return df.describe(include='all')\n",
    "\n",
    "def calculate_stock_metrics(df):\n",
    "    \"\"\"\n",
    "    Calculate additional stock market metrics.\n",
    "    \n",
    "    Args:\n",
    "        df (pd.DataFrame): Stock data with OHLCV columns\n",
    "        \n",
    "    Returns:\n",
    "        dict: Dictionary of calculated metrics\n",
    "    \"\"\"\n",
    "    metrics = {}\n",
    "    metrics['total_trading_days'] = len(df)\n",
    "    metrics['avg_daily_volume'] = df['Volume'].mean()\n",
    "    metrics['price_volatility'] = df['Close'].std()\n",
    "    metrics['total_return'] = ((df['Close'].iloc[-1] - df['Close'].iloc[0]) / df['Close'].iloc[0]) * 100\n",
    "    metrics['max_daily_range'] = (df['High'] - df['Low']).max()\n",
    "    \n",
    "    return metrics\n",
    "\n",
    "# Test the functions\n",
    "print(\"Testing get_summary_stats function:\")\n",
    "summary = get_summary_stats(df)\n",
    "print(summary)\n",
    "\n",
    "print(\"\\nTesting calculate_stock_metrics function:\")\n",
    "stock_metrics = calculate_stock_metrics(df)\n",
    "for key, value in stock_metrics.items():\n",
    "    print(f\"{key}: {value:.4f}\")\n",
    "\n",
    "print(\"\\nFunctions work correctly!\")"
   ]
  },
  {
   "cell_type": "markdown",
   "metadata": {},
   "source": [
    "## Summary\n",
    "\n",
    "This notebook successfully completed all required steps using stock market data:\n",
    "\n",
    "1. ✅ **NumPy Operations**: Created arrays for stock prices and volumes, performed element-wise operations (returns, value traded), compared loop vs vectorized execution\n",
    "2. ✅ **Dataset Loading**: Loaded starter_data.csv (242 trading days of stock data) using pandas, inspected with .info() and .head()\n",
    "3. ✅ **Summary Statistics**: Calculated .describe() for numeric columns, performed .groupby() aggregation by month\n",
    "4. ✅ **Save Outputs**: Saved monthly summary stats to data/processed/summary.csv, created and saved stock analysis plots\n",
    "5. ✅ **Reusable Functions**: Wrote get_summary_stats() and calculate_stock_metrics() utility functions\n",
    "\n",
    "### Key Findings from Stock Data:\n",
    "- Dataset contains 242 trading days of stock data for ticker 600000\n",
    "- Stock price ranged from approximately $5.78 to $6.40\n",
    "- Average daily trading volume was around 200,000 shares\n",
    "- Vectorized operations showed significant performance improvements over loops\n",
    "- Monthly analysis reveals seasonal trading patterns and volatility"
   ]
  }
 ],
 "metadata": {
  "kernelspec": {
   "display_name": "Python 3",
   "language": "python",
   "name": "python3"
  },
  "language_info": {
   "codemirror_mode": {
    "name": "ipython",
    "version": 3
   },
   "file_extension": ".py",
   "mimetype": "text/x-python",
   "name": "python",
   "nbconvert_exporter": "python",
   "pygments_lexer": "ipython3",
   "version": "3.11.13"
  }
 },
 "nbformat": 4,
 "nbformat_minor": 4
}
