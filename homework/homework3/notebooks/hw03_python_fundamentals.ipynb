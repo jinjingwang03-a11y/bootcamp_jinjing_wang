{
 "cells": [
  {
   "cell_type": "markdown",
   "metadata": {},
   "source": [
    "# Homework 3: Python Fundamentals\n",
    "\n",
    "This notebook demonstrates NumPy operations, pandas data loading, summary statistics, and reusable functions."
   ]
  },
  {
   "cell_type": "code",
   "execution_count": null,
   "metadata": {},
   "outputs": [],
   "source": [
    "# Import required libraries\n",
    "import numpy as np\n",
    "import pandas as pd\n",
    "import matplotlib.pyplot as plt\n",
    "import time\n",
    "import os\n",
    "\n",
    "print(\"Libraries imported successfully!\")"
   ]
  },
  {
   "cell_type": "markdown",
   "metadata": {},
   "source": [
    "## 1. NumPy Operations\n",
    "\n",
    "### Create an array and perform elementwise operations"
   ]
  },
  {
   "cell_type": "code",
   "execution_count": null,
   "metadata": {},
   "outputs": [],
   "source": [
    "# Create sample arrays\n",
    "expenses = np.array([1200, 1350, 1180, 1420, 1290, 1380])\n",
    "income = np.array([3000, 3000, 3000, 3000, 3000, 3000])\n",
    "\n",
    "print(\"Monthly Expenses:\", expenses)\n",
    "print(\"Monthly Income:\", income)\n",
    "\n",
    "# Element-wise operations\n",
    "savings = income - expenses\n",
    "savings_rate = (savings / income) * 100\n",
    "expense_ratio = expenses / income\n",
    "\n",
    "print(\"\\nElement-wise Operations:\")\n",
    "print(f\"Savings: {savings}\")\n",
    "print(f\"Savings Rate (%): {savings_rate.round(2)}\")\n",
    "print(f\"Expense Ratio: {expense_ratio.round(3)}\")\n",
    "\n",
    "# Array statistics\n",
    "print(\"\\nArray Statistics:\")\n",
    "print(f\"Average expenses: ${expenses.mean():.2f}\")\n",
    "print(f\"Total expenses: ${expenses.sum():.2f}\")\n",
    "print(f\"Max expense: ${expenses.max():.2f}\")\n",
    "print(f\"Min expense: ${expenses.min():.2f}\")\n",
    "print(f\"Standard deviation: ${expenses.std():.2f}\")"
   ]
  },
  {
   "cell_type": "markdown",
   "metadata": {},
   "source": [
    "### Compare loop vs vectorized execution"
   ]
  },
  {
   "cell_type": "code",
   "execution_count": null,
   "metadata": {},
   "outputs": [],
   "source": [
    "# Create test data\n",
    "test_array = np.random.rand(100000)\n",
    "\n",
    "# Loop-based operation\n",
    "start_time = time.time()\n",
    "loop_result = []\n",
    "for x in test_array:\n",
    "    loop_result.append(x ** 2 + 2 * x + 1)\n",
    "loop_time = time.time() - start_time\n",
    "\n",
    "# Vectorized operation\n",
    "start_time = time.time()\n",
    "vectorized_result = test_array ** 2 + 2 * test_array + 1\n",
    "vectorized_time = time.time() - start_time\n",
    "\n",
    "speedup = loop_time / vectorized_time\n",
    "\n",
    "print(\"Performance Comparison:\")\n",
    "print(f\"Array size: {len(test_array):,} elements\")\n",
    "print(f\"Loop time: {loop_time:.4f} seconds\")\n",
    "print(f\"Vectorized time: {vectorized_time:.4f} seconds\")\n",
    "print(f\"Speedup: {speedup:.1f}x faster\")"
   ]
  },
  {
   "cell_type": "markdown",
   "metadata": {},
   "source": [
    "## 2. Dataset Loading\n",
    "\n",
    "### Load provided CSV using pandas"
   ]
  },
  {
   "cell_type": "code",
   "execution_count": null,
   "metadata": {},
   "outputs": [],
   "source": [
    "# Load the dataset\n",
    "df = pd.read_csv('../data/starter_data.csv')\n",
    "\n",
    "print(f\"Dataset loaded successfully!\")\n",
    "print(f\"Shape: {df.shape}\")\n",
    "print(f\"Columns: {list(df.columns)}\")"
   ]
  },
  {
   "cell_type": "markdown",
   "metadata": {},
   "source": [
    "### Inspect with .info() and .head()"
   ]
  },
  {
   "cell_type": "code",
   "execution_count": null,
   "metadata": {},
   "outputs": [],
   "source": [
    "# Inspect with .info()\n",
    "print(\"Dataset Info:\")\n",
    "df.info()"
   ]
  },
  {
   "cell_type": "code",
   "execution_count": null,
   "metadata": {},
   "outputs": [],
   "source": [
    "# Inspect with .head()\n",
    "print(\"First 5 rows:\")\n",
    "df.head()"
   ]
  },
  {
   "cell_type": "markdown",
   "metadata": {},
   "source": [
    "## 3. Summary Statistics\n",
    "\n",
    "### Calculate .describe() for numeric columns"
   ]
  },
  {
   "cell_type": "code",
   "execution_count": null,
   "metadata": {},
   "outputs": [],
   "source": [
    "# Summary statistics for numeric columns\n",
    "numeric_summary = df.describe()\n",
    "print(\"Summary Statistics for Numeric Columns:\")\n",
    "print(numeric_summary)"
   ]
  },
  {
   "cell_type": "markdown",
   "metadata": {},
   "source": [
    "### Perform .groupby() aggregation by category"
   ]
  },
  {
   "cell_type": "code",
   "execution_count": null,
   "metadata": {},
   "outputs": [],
   "source": [
    "# GroupBy aggregation by category\n",
    "category_stats = df.groupby('category')['amount'].agg([\n",
    "    'count', 'sum', 'mean', 'median', 'std', 'min', 'max'\n",
    "]).round(2)\n",
    "\n",
    "print(\"Category-wise Statistics:\")\n",
    "print(category_stats)\n",
    "\n",
    "# Sort by total spending\n",
    "print(\"\\nCategories ranked by total spending:\")\n",
    "category_ranking = category_stats.sort_values('sum', ascending=False)\n",
    "print(category_ranking[['count', 'sum', 'mean']])"
   ]
  },
  {
   "cell_type": "markdown",
   "metadata": {},
   "source": [
    "## 4. Save Outputs\n",
    "\n",
    "### Save summary stats to data/processed/summary.csv"
   ]
  },
  {
   "cell_type": "code",
   "execution_count": null,
   "metadata": {},
   "outputs": [],
   "source": [
    "# Ensure processed directory exists\n",
    "os.makedirs('../data/processed', exist_ok=True)\n",
    "\n",
    "# Save summary statistics to CSV\n",
    "category_stats.to_csv('../data/processed/summary.csv')\n",
    "print(\"Summary statistics saved to data/processed/summary.csv\")\n",
    "\n",
    "# Also save overall summary\n",
    "numeric_summary.to_csv('../data/processed/overall_summary.csv')\n",
    "print(\"Overall summary saved to data/processed/overall_summary.csv\")"
   ]
  },
  {
   "cell_type": "markdown",
   "metadata": {},
   "source": [
    "### Bonus: Create and save a basic plot"
   ]
  },
  {
   "cell_type": "code",
   "execution_count": null,
   "metadata": {},
   "outputs": [],
   "source": [
    "# Create a basic spending plot\n",
    "plt.figure(figsize=(12, 8))\n",
    "\n",
    "# Subplot 1: Total spending by category\n",
    "plt.subplot(2, 2, 1)\n",
    "category_totals = df.groupby('category')['amount'].sum().sort_values(ascending=False)\n",
    "plt.bar(category_totals.index, category_totals.values, color='skyblue')\n",
    "plt.title('Total Spending by Category')\n",
    "plt.xlabel('Category')\n",
    "plt.ylabel('Amount ($)')\n",
    "plt.xticks(rotation=45)\n",
    "\n",
    "# Subplot 2: Transaction amount distribution\n",
    "plt.subplot(2, 2, 2)\n",
    "plt.hist(df['amount'], bins=15, color='lightgreen', alpha=0.7, edgecolor='black')\n",
    "plt.title('Distribution of Transaction Amounts')\n",
    "plt.xlabel('Amount ($)')\n",
    "plt.ylabel('Frequency')\n",
    "\n",
    "# Subplot 3: Average spending by category\n",
    "plt.subplot(2, 2, 3)\n",
    "category_avg = df.groupby('category')['amount'].mean().sort_values(ascending=True)\n",
    "plt.barh(category_avg.index, category_avg.values, color='coral')\n",
    "plt.title('Average Spending by Category')\n",
    "plt.xlabel('Average Amount ($)')\n",
    "\n",
    "# Subplot 4: Transaction count by category\n",
    "plt.subplot(2, 2, 4)\n",
    "category_counts = df['category'].value_counts()\n",
    "plt.pie(category_counts.values, labels=category_counts.index, autopct='%1.1f%%', startangle=90)\n",
    "plt.title('Transaction Count by Category')\n",
    "\n",
    "plt.tight_layout()\n",
    "plt.savefig('../data/processed/spending_analysis.png', dpi=300, bbox_inches='tight')\n",
    "plt.show()\n",
    "\n",
    "print(\"Plot saved to data/processed/spending_analysis.png\")"
   ]
  },
  {
   "cell_type": "markdown",
   "metadata": {},
   "source": [
    "## 5. Reusable Functions\n",
    "\n",
    "### Write utility function (get_summary_stats)"
   ]
  },
  {
   "cell_type": "code",
   "execution_count": null,
   "metadata": {},
   "outputs": [],
   "source": [
    "def get_summary_stats(df, numeric_only=True):\n",
    "    \"\"\"\n",
    "    Calculate summary statistics for a DataFrame.\n",
    "    \n",
    "    Args:\n",
    "        df (pd.DataFrame): Input DataFrame\n",
    "        numeric_only (bool): Whether to include only numeric columns\n",
    "        \n",
    "    Returns:\n",
    "        pd.DataFrame: Summary statistics\n",
    "    \"\"\"\n",
    "    if numeric_only:\n",
    "        return df.describe()\n",
    "    else:\n",
    "        return df.describe(include='all')\n",
    "\n",
    "# Test the function\n",
    "print(\"Testing get_summary_stats function:\")\n",
    "summary = get_summary_stats(df)\n",
    "print(summary)\n",
    "\n",
    "print(\"\\nFunction works correctly!\")"
   ]
  },
  {
   "cell_type": "markdown",
   "metadata": {},
   "source": [
    "## Summary\n",
    "\n",
    "This notebook successfully completed all required steps:\n",
    "\n",
    "1. ✅ **NumPy Operations**: Created arrays, performed element-wise operations, compared loop vs vectorized execution\n",
    "2. ✅ **Dataset Loading**: Loaded CSV using pandas, inspected with .info() and .head()\n",
    "3. ✅ **Summary Statistics**: Calculated .describe() for numeric columns, performed .groupby() aggregation by category\n",
    "4. ✅ **Save Outputs**: Saved summary stats to data/processed/summary.csv, created and saved basic plot\n",
    "5. ✅ **Reusable Functions**: Wrote get_summary_stats() utility function\n",
    "\n",
    "### Key Findings:\n",
    "- Vectorized operations are significantly faster than loops\n",
    "- Food category has the highest total spending\n",
    "- Dataset contains 30 transactions across 5 categories\n",
    "- Average transaction amount is around $65"
   ]
  }
 ],
 "metadata": {
  "kernelspec": {
   "display_name": "Python 3",
   "language": "python",
   "name": "python3"
  },
  "language_info": {
   "codemirror_mode": {
    "name": "ipython",
    "version": 3
   },
   "file_extension": ".py",
   "mimetype": "text/x-python",
   "name": "python",
   "nbconvert_exporter": "python",
   "pygments_lexer": "ipython3",
   "version": "3.11.13"
  }
 },
 "nbformat": 4,
 "nbformat_minor": 4
}
