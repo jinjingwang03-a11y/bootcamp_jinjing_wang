{
 "cells": [
  {
   "cell_type": "markdown",
   "metadata": {},
   "source": [
    "# Homework 3: Python Fundamentals"
   ]
  },
  {
   "cell_type": "code",
   "execution_count": null,
   "metadata": {},
   "outputs": [],
   "source": [
    "import numpy as np\n",
    "import pandas as pd\n",
    "import matplotlib.pyplot as plt\n",
    "import time\n",
    "import os"
   ]
  },
  {
   "cell_type": "markdown",
   "metadata": {},
   "source": [
    "## 1. NumPy Operations"
   ]
  },
  {
   "cell_type": "code",
   "execution_count": null,
   "metadata": {},
   "outputs": [],
   "source": [
    "arr1 = np.array([1, 2, 3, 4, 5])\n",
    "arr2 = np.array([2, 4, 6, 8, 10])\n",
    "\n",
    "print(\"Array 1:\", arr1)\n",
    "print(\"Array 2:\", arr2)\n",
    "\n",
    "addition = arr1 + arr2\n",
    "multiplication = arr1 * arr2\n",
    "power = arr1 ** 2\n",
    "\n",
    "print(\"Addition:\", addition)\n",
    "print(\"Multiplication:\", multiplication)\n",
    "print(\"Power:\", power)\n",
    "\n",
    "print(\"Mean:\", arr1.mean())\n",
    "print(\"Sum:\", arr1.sum())\n",
    "print(\"Max:\", arr1.max())\n",
    "print(\"Min:\", arr1.min())"
   ]
  },
  {
   "cell_type": "markdown",
   "metadata": {},
   "source": [
    "### Compare loop vs vectorized execution"
   ]
  },
  {
   "cell_type": "code",
   "execution_count": null,
   "metadata": {},
   "outputs": [],
   "source": [
    "test_array = np.random.rand(100000)\n",
    "\n",
    "start_time = time.time()\n",
    "loop_result = []\n",
    "for x in test_array:\n",
    "    loop_result.append(x ** 2 + 2 * x + 1)\n",
    "loop_time = time.time() - start_time\n",
    "\n",
    "start_time = time.time()\n",
    "vectorized_result = test_array ** 2 + 2 * test_array + 1\n",
    "vectorized_time = time.time() - start_time\n",
    "\n",
    "speedup = loop_time / vectorized_time\n",
    "\n",
    "print(\"Performance Comparison:\")\n",
    "print(f\"Array size: {len(test_array):,} elements\")\n",
    "print(f\"Loop time: {loop_time:.4f} seconds\")\n",
    "print(f\"Vectorized time: {vectorized_time:.4f} seconds\")\n",
    "print(f\"Speedup: {speedup:.1f}x faster\")"
   ]
  },
  {
   "cell_type": "markdown",
   "metadata": {},
   "source": [
    "## 2. Dataset Loading\n",
    "\n",
    "### Load provided CSV using pandas"
   ]
  },
  {
   "cell_type": "code",
   "execution_count": null,
   "metadata": {},
   "outputs": [],
   "source": [
    "df = pd.read_csv('../data/starter_data (1).csv')\n",
    "\n",
    "print(f\"Dataset loaded successfully!\")\n",
    "print(f\"Shape: {df.shape}\")\n",
    "print(f\"Columns: {list(df.columns)}\")"
   ]
  },
  {
   "cell_type": "markdown",
   "metadata": {},
   "source": [
    "### Inspect with .info() and .head()"
   ]
  },
  {
   "cell_type": "code",
   "execution_count": null,
   "metadata": {},
   "outputs": [],
   "source": [
    "print(\"Dataset Info:\")\n",
    "df.info()"
   ]
  },
  {
   "cell_type": "code",
   "execution_count": null,
   "metadata": {},
   "outputs": [],
   "source": [
    "print(\"First 5 rows:\")\n",
    "df.head()"
   ]
  },
  {
   "cell_type": "markdown",
   "metadata": {},
   "source": [
    "## 3. Summary Statistics\n",
    "\n",
    "### Calculate .describe() for numeric columns"
   ]
  },
  {
   "cell_type": "code",
   "execution_count": null,
   "metadata": {},
   "outputs": [],
   "source": [
    "numeric_summary = df.describe()\n",
    "print(\"Summary Statistics for Numeric Columns:\")\n",
    "print(numeric_summary)"
   ]
  },
  {
   "cell_type": "markdown",
   "metadata": {},
   "source": [
    "### Perform .groupby() aggregation by category"
   ]
  },
  {
   "cell_type": "code",
   "execution_count": null,
   "metadata": {},
   "outputs": [],
   "source": [
    "category_stats = df.groupby('category')['value'].agg([\n",
    "    'count', 'mean', 'std', 'sum', 'min', 'max'\n",
    "]).round(4)\n",
    "\n",
    "print(\"Category Statistics:\")\n",
    "print(category_stats)\n",
    "\n",
    "category_summary = category_stats.copy()\n",
    "category_summary.columns = ['count', 'avg_value', 'volatility', 'total_value', 'min_value', 'max_value']\n",
    "\n",
    "print(\"\\nSimplified Category Summary:\")\n",
    "print(category_summary)"
   ]
  },
  {
   "cell_type": "markdown",
   "metadata": {},
   "source": [
    "## 4. Save Outputs\n",
    "\n",
    "### Save summary stats to data/processed/summary.csv"
   ]
  },
  {
   "cell_type": "code",
   "execution_count": null,
   "metadata": {},
   "outputs": [],
   "source": [
    "os.makedirs('../data/processed', exist_ok=True)\n",
    "\n",
    "category_summary.to_csv('../data/processed/summary.csv')\n",
    "print(\"Category summary statistics saved to data/processed/summary.csv\")\n",
    "\n",
    "numeric_summary.to_csv('../data/processed/overall_summary.csv')\n",
    "print(\"Overall summary saved to data/processed/overall_summary.csv\")"
   ]
  },
  {
   "cell_type": "markdown",
   "metadata": {},
   "source": [
    "## 5. Reusable Functions\n",
    "\n",
    "### Write utility function (get_summary_stats)"
   ]
  },
  {
   "cell_type": "code",
   "execution_count": null,
   "metadata": {},
   "outputs": [],
   "source": [
    "def get_summary_stats(df, numeric_only=True):\n",
    "    if numeric_only:\n",
    "        return df.describe()\n",
    "    else:\n",
    "        return df.describe(include='all')\n",
    "\n",
    "def calculate_metrics(df):\n",
    "    metrics = {}\n",
    "    metrics['total_records'] = len(df)\n",
    "    metrics['avg_value'] = df['value'].mean()\n",
    "    metrics['value_volatility'] = df['value'].std()\n",
    "    metrics['total_sum'] = df['value'].sum()\n",
    "    metrics['value_range'] = df['value'].max() - df['value'].min()\n",
    "    \n",
    "    return metrics\n",
    "\n",
    "print(\"Testing get_summary_stats function:\")\n",
    "summary = get_summary_stats(df)\n",
    "print(summary)\n",
    "\n",
    "print(\"\\nTesting calculate_metrics function:\")\n",
    "data_metrics = calculate_metrics(df)\n",
    "for key, value in data_metrics.items():\n",
    "    print(f\"{key}: {value:.4f}\")"
   ]
  }
 ],
 "metadata": {
  "kernelspec": {
   "display_name": "Python 3",
   "language": "python",
   "name": "python3"
  },
  "language_info": {
   "codemirror_mode": {
    "name": "ipython",
    "version": 3
   },
   "file_extension": ".py",
   "mimetype": "text/x-python",
   "name": "python",
   "nbconvert_exporter": "python",
   "pygments_lexer": "ipython3",
   "version": "3.11.13"
  }
 },
 "nbformat": 4,
 "nbformat_minor": 4
}
