{
 "cells": [
  {
   "cell_type": "markdown",
   "metadata": {},
   "source": [
    "# Budget Lens - Data Analysis (Homework 3)\n",
    "\n",
    "This notebook demonstrates NumPy operations, pandas data loading, summary statistics, and reusable functions for financial data analysis."
   ]
  },
  {
   "cell_type": "code",
   "execution_count": null,
   "metadata": {},
   "outputs": [],
   "source": [
    "# Import required libraries\n",
    "import numpy as np\n",
    "import pandas as pd\n",
    "import matplotlib.pyplot as plt\n",
    "import seaborn as sns\n",
    "import sys\n",
    "import os\n",
    "import time\n",
    "\n",
    "# Add src directory to path for importing custom functions\n",
    "sys.path.append('../src')\n",
    "from utils import get_summary_stats, category_analysis, save_summary_to_files, create_spending_plot, compare_performance\n",
    "\n",
    "# Set style for plots\n",
    "plt.style.use('default')\n",
    "sns.set_palette(\"husl\")\n",
    "\n",
    "print(\"✅ All libraries imported successfully!\")"
   ]
  },
  {
   "cell_type": "markdown",
   "metadata": {},
   "source": [
    "## 1. NumPy Operations\n",
    "\n",
    "### Array Creation and Element-wise Operations"
   ]
  },
  {
   "cell_type": "code",
   "execution_count": null,
   "metadata": {},
   "outputs": [],
   "source": [
    "# Create sample arrays for financial calculations\n",
    "monthly_expenses = np.array([1200, 1350, 1180, 1420, 1290, 1380])\n",
    "monthly_income = np.array([3000, 3000, 3000, 3000, 3000, 3000])\n",
    "\n",
    "print(\"Monthly Expenses:\", monthly_expenses)\n",
    "print(\"Monthly Income:\", monthly_income)\n",
    "\n",
    "# Element-wise operations\n",
    "savings = monthly_income - monthly_expenses\n",
    "savings_rate = (savings / monthly_income) * 100\n",
    "expense_ratio = monthly_expenses / monthly_income\n",
    "\n",
    "print(\"\\n=== Element-wise Operations ===\")\n",
    "print(f\"Monthly Savings: {savings}\")\n",
    "print(f\"Savings Rate (%): {savings_rate.round(2)}\")\n",
    "print(f\"Expense Ratio: {expense_ratio.round(3)}\")\n",
    "\n",
    "# Array statistics\n",
    "print(\"\\n=== Array Statistics ===\")\n",
    "print(f\"Average monthly expenses: ${monthly_expenses.mean():.2f}\")\n",
    "print(f\"Total expenses (6 months): ${monthly_expenses.sum():.2f}\")\n",
    "print(f\"Highest expense month: ${monthly_expenses.max():.2f}\")\n",
    "print(f\"Lowest expense month: ${monthly_expenses.min():.2f}\")\n",
    "print(f\"Expense standard deviation: ${monthly_expenses.std():.2f}\")"
   ]
  },
  {
   "cell_type": "markdown",
   "metadata": {},
   "source": [
    "### Performance Comparison: Loop vs Vectorized Operations"
   ]
  },
  {
   "cell_type": "code",
   "execution_count": null,
   "metadata": {},
   "outputs": [],
   "source": [
    "# Compare performance using our utility function\n",
    "performance_results = compare_performance(data_size=100000)\n",
    "\n",
    "print(\"=== Performance Comparison: Loop vs Vectorized ===\")\n",
    "print(f\"Data size: {performance_results['data_size']:,} elements\")\n",
    "print(f\"Loop time: {performance_results['loop_time']:.4f} seconds\")\n",
    "print(f\"Vectorized time: {performance_results['vectorized_time']:.4f} seconds\")\n",
    "print(f\"Speedup factor: {performance_results['speedup_factor']:.1f}x faster\")\n",
    "\n",
    "# Manual demonstration with smaller array\n",
    "print(\"\\n=== Manual Demonstration ===\")\n",
    "test_array = np.array([1, 2, 3, 4, 5])\n",
    "print(f\"Original array: {test_array}\")\n",
    "\n",
    "# Loop-based approach\n",
    "loop_result = []\n",
    "for x in test_array:\n",
    "    loop_result.append(x ** 2 + 2 * x + 1)\n",
    "print(f\"Loop result: {loop_result}\")\n",
    "\n",
    "# Vectorized approach\n",
    "vectorized_result = test_array ** 2 + 2 * test_array + 1\n",
    "print(f\"Vectorized result: {vectorized_result}\")\n",
    "print(f\"Results match: {np.array_equal(loop_result, vectorized_result)}\")"
   ]
  },
  {
   "cell_type": "markdown",
   "metadata": {},
   "source": [
    "## 2. Dataset Loading\n",
    "\n",
    "### Load and Inspect CSV Data"
   ]
  },
  {
   "cell_type": "code",
   "execution_count": null,
   "metadata": {},
   "outputs": [],
   "source": [
    "# Load the starter dataset\n",
    "df = pd.read_csv('../data/starter_data.csv')\n",
    "\n",
    "print(\"=== Dataset Successfully Loaded ===\")\n",
    "print(f\"Dataset shape: {df.shape}\")\n",
    "print(f\"Columns: {list(df.columns)}\")\n",
    "\n",
    "# Display first few rows\n",
    "print(\"\\n=== First 5 rows ===\")\n",
    "print(df.head())"
   ]
  },
  {
   "cell_type": "code",
   "execution_count": null,
   "metadata": {},
   "outputs": [],
   "source": [
    "# Inspect dataset with .info()\n",
    "print(\"=== Dataset Info ===\")\n",
    "df.info()\n",
    "\n",
    "# Check for missing values\n",
    "print(\"\\n=== Missing Values ===\")\n",
    "missing_values = df.isnull().sum()\n",
    "print(missing_values)\n",
    "\n",
    "# Data types\n",
    "print(\"\\n=== Data Types ===\")\n",
    "print(df.dtypes)"
   ]
  },
  {
   "cell_type": "markdown",
   "metadata": {},
   "source": [
    "## 3. Summary Statistics\n",
    "\n",
    "### Basic Descriptive Statistics"
   ]
  },
  {
   "cell_type": "code",
   "execution_count": null,
   "metadata": {},
   "outputs": [],
   "source": [
    "# Calculate summary statistics using our utility function\n",
    "summary_stats = get_summary_stats(df)\n",
    "\n",
    "print(\"=== Summary Statistics for Numeric Columns ===\")\n",
    "print(summary_stats)\n",
    "\n",
    "# Additional statistics\n",
    "print(\"\\n=== Additional Statistics ===\")\n",
    "print(f\"Total spending: ${df['amount'].sum():.2f}\")\n",
    "print(f\"Average transaction: ${df['amount'].mean():.2f}\")\n",
    "print(f\"Median transaction: ${df['amount'].median():.2f}\")\n",
    "print(f\"Number of transactions: {len(df)}\")\n",
    "print(f\"Number of unique categories: {df['category'].nunique()}\")\n",
    "print(f\"Categories: {sorted(df['category'].unique())}\")"
   ]
  },
  {
   "cell_type": "markdown",
   "metadata": {},
   "source": [
    "### GroupBy Analysis by Category"
   ]
  },
  {
   "cell_type": "code",
   "execution_count": null,
   "metadata": {},
   "outputs": [],
   "source": [
    "# Perform category analysis using our utility function\n",
    "category_stats = category_analysis(df)\n",
    "\n",
    "print(\"=== Spending Analysis by Category ===\")\n",
    "print(category_stats)\n",
    "\n",
    "# Sort by total spending\n",
    "print(\"\\n=== Categories Ranked by Total Spending ===\")\n",
    "category_ranking = category_stats.sort_values('sum', ascending=False)\n",
    "print(category_ranking[['count', 'sum', 'mean']])"
   ]
  },
  {
   "cell_type": "markdown",
   "metadata": {},
   "source": [
    "## 4. Save Outputs\n",
    "\n",
    "### Save Summary Statistics to Files"
   ]
  },
  {
   "cell_type": "code",
   "execution_count": null,
   "metadata": {},
   "outputs": [],
   "source": [
    "# Prepare summary data for saving\n",
    "summary_data = {\n",
    "    'overall_summary': summary_stats,\n",
    "    'category_analysis': category_stats,\n",
    "    'total_spending': df['amount'].sum(),\n",
    "    'average_transaction': df['amount'].mean(),\n",
    "    'transaction_count': len(df),\n",
    "    'unique_categories': df['category'].nunique()\n",
    "}\n",
    "\n",
    "# Save to files using our utility function\n",
    "save_summary_to_files(summary_data, '../data/processed')\n",
    "\n",
    "print(\"✅ Summary statistics saved successfully!\")"
   ]
  },
  {
   "cell_type": "markdown",
   "metadata": {},
   "source": [
    "### Bonus: Create and Save Basic Plot"
   ]
  },
  {
   "cell_type": "code",
   "execution_count": null,
   "metadata": {},
   "outputs": [],
   "source": [
    "# Create comprehensive spending analysis plot\n",
    "fig = create_spending_plot(df, '../data/processed/spending_analysis.png')\n",
    "plt.show()\n",
    "\n",
    "print(\"✅ Spending analysis plot created and saved!\")"
   ]
  },
  {
   "cell_type": "markdown",
   "metadata": {},
   "source": [
    "## 5. Reusable Functions Demonstration\n",
    "\n",
    "### Testing Our Custom Utility Functions"
   ]
  },
  {
   "cell_type": "code",
   "execution_count": null,
   "metadata": {},
   "outputs": [],
   "source": [
    "# Demonstrate reusable functions with different parameters\n",
    "print(\"=== Testing get_summary_stats with different options ===\")\n",
    "\n",
    "# Numeric only (default)\n",
    "numeric_summary = get_summary_stats(df, numeric_only=True)\n",
    "print(\"Numeric columns summary:\")\n",
    "print(numeric_summary)\n",
    "\n",
    "print(\"\\n\" + \"=\"*50)\n",
    "\n",
    "# All columns\n",
    "all_summary = get_summary_stats(df, numeric_only=False)\n",
    "print(\"All columns summary:\")\n",
    "print(all_summary)"
   ]
  },
  {
   "cell_type": "code",
   "execution_count": null,
   "metadata": {},
   "outputs": [],
   "source": [
    "# Test category analysis with custom parameters\n",
    "print(\"=== Testing category_analysis function ===\")\n",
    "\n",
    "# Standard analysis\n",
    "standard_analysis = category_analysis(df)\n",
    "print(\"Standard category analysis:\")\n",
    "print(standard_analysis)\n",
    "\n",
    "# Filter for specific categories\n",
    "food_data = df[df['category'] == 'Food']\n",
    "print(f\"\\n=== Food Category Deep Dive ===\")\n",
    "print(f\"Food transactions: {len(food_data)}\")\n",
    "print(f\"Total food spending: ${food_data['amount'].sum():.2f}\")\n",
    "print(f\"Average food transaction: ${food_data['amount'].mean():.2f}\")\n",
    "print(f\"Food merchants: {food_data['merchant'].unique()}\")"
   ]
  },
  {
   "cell_type": "markdown",
   "metadata": {},
   "source": [
    "## Summary\n",
    "\n",
    "This notebook successfully demonstrates:\n",
    "\n",
    "1. ✅ **NumPy Operations**: Array creation, element-wise operations, and performance comparison\n",
    "2. ✅ **Dataset Loading**: CSV loading with pandas, inspection using `.info()` and `.head()`\n",
    "3. ✅ **Summary Statistics**: `.describe()` for numeric columns and `.groupby()` aggregation\n",
    "4. ✅ **Save Outputs**: Summary statistics saved to CSV and JSON formats, plus visualization\n",
    "5. ✅ **Reusable Functions**: Custom utility functions in `src/utils.py` imported and used\n",
    "\n",
    "### Key Insights from the Data:\n",
    "- Total spending across all categories\n",
    "- Food is typically the largest expense category\n",
    "- Vectorized operations are significantly faster than loops\n",
    "- Clear spending patterns by category with actionable insights"
   ]
  }
 ],
 "metadata": {
  "kernelspec": {
   "display_name": "Python 3",
   "language": "python",
   "name": "python3"
  },
  "language_info": {
   "codemirror_mode": {
    "name": "ipython",
    "version": 3
   },
   "file_extension": ".py",
   "mimetype": "text/x-python",
   "name": "python",
   "nbconvert_exporter": "python",
   "pygments_lexer": "ipython3",
   "version": "3.11.13"
  }
 },
 "nbformat": 4,
 "nbformat_minor": 4
}
