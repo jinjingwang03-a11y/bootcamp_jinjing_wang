{
 "cells": [
  {
   "cell_type": "markdown",
   "metadata": {},
   "source": [
    "# Environment & Config Check\n",
    "\n",
    "This notebook verifies that our project environment is set up correctly."
   ]
  },
  {
   "cell_type": "code",
   "execution_count": null,
   "metadata": {},
   "outputs": [],
   "source": [
    "# Import required modules\n",
    "import sys\n",
    "import os\n",
    "sys.path.append('../src')\n",
    "\n",
    "from dotenv import load_dotenv\n",
    "from config import get_key\n",
    "import numpy as np"
   ]
  },
  {
   "cell_type": "code",
   "execution_count": null,
   "metadata": {},
   "outputs": [],
   "source": [
    "# Load environment variables\n",
    "load_dotenv()\n",
    "\n",
    "# Check if API_KEY exists\n",
    "api_key = get_key('API_KEY')\n",
    "if api_key:\n",
    "    print(f\"✅ API_KEY found: {api_key[:10]}...\")\n",
    "else:\n",
    "    print(\"❌ API_KEY not found\")\n",
    "\n",
    "# Check DATA_DIR\n",
    "data_dir = get_key('DATA_DIR')\n",
    "if data_dir:\n",
    "    print(f\"✅ DATA_DIR found: {data_dir}\")\n",
    "else:\n",
    "    print(\"❌ DATA_DIR not found\")"
   ]
  },
  {
   "cell_type": "code",
   "execution_count": null,
   "metadata": {},
   "outputs": [],
   "source": [
    "# Test numpy functionality\n",
    "print(\"Testing NumPy functionality:\")\n",
    "arr = np.array([1, 2, 3, 4, 5])\n",
    "print(f\"Array: {arr}\")\n",
    "print(f\"Mean: {np.mean(arr)}\")\n",
    "print(f\"Sum: {np.sum(arr)}\")\n",
    "print(f\"Standard deviation: {np.std(arr)}\")\n",
    "print(\"✅ NumPy is working correctly!\")"
   ]
  },
  {
   "cell_type": "code",
   "execution_count": null,
   "metadata": {},
   "outputs": [],
   "source": [
    "# Environment summary\n",
    "print(\"=== Environment Summary ===\")\n",
    "print(f\"Python version: {sys.version}\")\n",
    "print(f\"NumPy version: {np.__version__}\")\n",
    "print(f\"Current working directory: {os.getcwd()}\")\n",
    "print(\"\\n✅ Project setup verification complete!\")"
   ]
  }
 ],
 "metadata": {
  "kernelspec": {
   "display_name": "Python 3",
   "language": "python",
   "name": "python3"
  },
  "language_info": {
   "codemirror_mode": {
    "name": "ipython",
    "version": 3
   },
   "file_extension": ".py",
   "mimetype": "text/x-python",
   "name": "python",
   "nbconvert_exporter": "python",
   "pygments_lexer": "ipython3",
   "version": "3.11.13"
  }
 },
 "nbformat": 4,
 "nbformat_minor": 4
}
